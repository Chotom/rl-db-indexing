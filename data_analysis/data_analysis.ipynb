{
 "cells": [
  {
   "cell_type": "code",
   "execution_count": null,
   "metadata": {
    "ExecuteTime": {
     "start_time": "2023-04-20T12:30:16.528225Z",
     "end_time": "2023-04-20T12:30:16.554919Z"
    }
   },
   "outputs": [],
   "source": [
    "import os\n",
    "import matplotlib.pyplot as plt\n",
    "import pandas as pd\n",
    "import numpy as np\n",
    "from matplotlib import colors"
   ]
  },
  {
   "cell_type": "code",
   "execution_count": null,
   "metadata": {
    "collapsed": false,
    "ExecuteTime": {
     "start_time": "2023-04-20T12:30:16.546628Z",
     "end_time": "2023-04-20T12:30:16.623852Z"
    }
   },
   "outputs": [],
   "source": [
    "IMAGES_PATH = '.'\n",
    "df_data = pd.read_csv('../data/agent_history.csv')\n",
    "title_prefix = '100MB database'\n",
    "step = 50\n",
    "\n",
    "\n",
    "def make_Ramp(ramp_colors):\n",
    "    from colour import Color\n",
    "    from matplotlib.colors import LinearSegmentedColormap\n",
    "\n",
    "    color_ramp = LinearSegmentedColormap.from_list('my_list', [Color(c1).rgb for c1 in ramp_colors])\n",
    "    plt.figure(figsize=(15, 3))\n",
    "    plt.imshow([list(np.arange(0, len(ramp_colors), 0.1))], interpolation='nearest', origin='lower', cmap=color_ramp)\n",
    "    plt.xticks([])\n",
    "    plt.yticks([])\n",
    "    return color_ramp\n",
    "\n",
    "\n",
    "def save_fig(fig_id, tight_layout=True, fig_extension=\"png\", resolution=300):\n",
    "    path = os.path.join(IMAGES_PATH, fig_id + \".\" + fig_extension)\n",
    "    print(\"Saving figure\", fig_id)\n",
    "    if tight_layout:\n",
    "        plt.tight_layout()\n",
    "    plt.savefig(path, format=fig_extension, dpi=resolution)\n",
    "\n",
    "\n",
    "# custom_cmap = make_Ramp(['#005ce6', '#069AF3', '#66ccff', '#ffbf80', '#ffa64d', '#ff7f0e', '#ffbb33'])\n",
    "custom_cmap = make_Ramp(['#80b3ff', '#3385ff', '#0066ff', '#1a1aff', '#0000e6'])\n"
   ]
  },
  {
   "cell_type": "code",
   "execution_count": null,
   "metadata": {
    "ExecuteTime": {
     "start_time": "2023-04-20T12:30:16.619375Z",
     "end_time": "2023-04-20T12:30:16.962149Z"
    }
   },
   "outputs": [],
   "source": [
    "hist, x, y, _ = plt.hist2d(df_data[::step].index, df_data[::step]['initial_state_reward'], bins=(1, 12),\n",
    "                           cmap=custom_cmap)\n",
    "hist = [0.0, *hist[0], 0.0]\n",
    "hist_intervals = pd.IntervalIndex.from_arrays(np.insert(y, 0, 0, axis=0),\n",
    "                                              np.insert(y, y.size, np.inf, axis=0),\n",
    "                                              closed='left')\n",
    "df_data['hist'] = df_data['reward'].apply(\n",
    "    lambda r: hist[hist_intervals.get_loc(r)] / (df_data.index.max() / step) * 100)"
   ]
  },
  {
   "cell_type": "code",
   "execution_count": null,
   "metadata": {
    "ExecuteTime": {
     "start_time": "2023-04-20T12:30:16.962149Z",
     "end_time": "2023-04-20T12:30:17.137511Z"
    }
   },
   "outputs": [],
   "source": [
    "# exploration_probability\n",
    "plt.grid()\n",
    "plt.yticks(np.arange(min(df_data['exploration_probability']), max(df_data['exploration_probability']) + 1, 0.1))\n",
    "plt.ylabel('Exploration probabilty', fontsize=12)\n",
    "plt.xlabel('Step', fontsize=12)\n",
    "plt.title(f'Exploration probability throughout training for {title_prefix}')\n",
    "\n",
    "plt.plot(df_data['exploration_probability'], '.', markersize=1)\n",
    "#save_fig(f'{title_prefix}exploration_probability', fig_extension='svg')"
   ]
  },
  {
   "cell_type": "code",
   "execution_count": null,
   "metadata": {
    "ExecuteTime": {
     "start_time": "2023-04-20T12:30:17.138516Z",
     "end_time": "2023-04-20T12:30:17.352344Z"
    }
   },
   "outputs": [],
   "source": [
    "# total_reward\n",
    "rolling_probe = step / 5\n",
    "\n",
    "plt.grid()\n",
    "plt.ylabel('Accumulated reward [QphH]', fontsize=12)\n",
    "plt.xlabel('Step', fontsize=12)\n",
    "plt.title(f'Accumulated reward at the end of episode for {title_prefix}')\n",
    "\n",
    "plt.plot(df_data['total_reward'][step - 1::step].rolling(window=int(rolling_probe)).mean(), '-',\n",
    "         label=f'Moving avg for {int(rolling_probe)} last episodes')\n",
    "plt.plot(df_data['total_reward'][step - 1::step], '--', alpha=0.4,\n",
    "         label='Accumulated reward at the end of episode')\n",
    "plt.legend(fontsize=12)\n",
    "save_fig(f'{title_prefix}_total_reward', fig_extension='svg')"
   ]
  },
  {
   "cell_type": "code",
   "execution_count": null,
   "metadata": {
    "collapsed": false,
    "ExecuteTime": {
     "start_time": "2023-04-20T12:30:17.354350Z",
     "end_time": "2023-04-20T12:30:17.524667Z"
    }
   },
   "outputs": [],
   "source": [
    "# aprox q\n",
    "plt.grid()\n",
    "plt.ylabel('Approximated Q-value', fontsize=12)\n",
    "plt.xlabel('Step', fontsize=12)\n",
    "plt.title(f'Approximated Q-values for each state, action transition for {title_prefix}')\n",
    "\n",
    "plt.plot(df_data[df_data['random_action'] == False]['q'], '.', alpha=0.5,\n",
    "         label='Argmax action')\n",
    "plt.plot(df_data[df_data['random_action'] == True]['q'], '.', alpha=0.4,\n",
    "         label='Random action')\n",
    "plt.legend(loc='lower right', fontsize=12)\n",
    "#save_fig(f'{title_prefix}_qvalue', fig_extension='svg')"
   ]
  },
  {
   "cell_type": "code",
   "execution_count": null,
   "metadata": {
    "collapsed": false,
    "ExecuteTime": {
     "start_time": "2023-04-20T12:30:17.526852Z",
     "end_time": "2023-04-20T12:30:17.849420Z"
    }
   },
   "outputs": [],
   "source": [
    "# td error\n",
    "plt.grid()\n",
    "plt.ylabel('TD error', fontsize=12)\n",
    "plt.xlabel('Step', fontsize=12)\n",
    "plt.title(f'Difference between approximate Q-value and target value\\nfor {title_prefix}')\n",
    "\n",
    "plt.plot(df_data['td_error'], 'r.', alpha=0.15)\n",
    "plt.axhline(y=0, color='grey')\n",
    "plt.ylim([-1000, 1000])\n",
    "save_fig(f'{title_prefix}_td_error', fig_extension='svg')"
   ]
  },
  {
   "cell_type": "code",
   "execution_count": null,
   "metadata": {
    "collapsed": false,
    "ExecuteTime": {
     "start_time": "2023-04-20T12:30:17.851465Z",
     "end_time": "2023-04-20T12:30:18.642339Z"
    }
   },
   "outputs": [],
   "source": [
    "from matplotlib.pyplot import colorbar\n",
    "\n",
    "# rewards\n",
    "\n",
    "plt.figure(figsize=(8, 6))\n",
    "plt.grid(axis='x')\n",
    "for yc in y[:-2]:\n",
    "    plt.axhline(y=yc, color='grey', alpha=0.3)\n",
    "plt.ylabel('Reward [QphH]', fontsize=12)\n",
    "plt.xlabel('Step', fontsize=12)\n",
    "plt.title(f'Rewards throughout training for {title_prefix}')\n",
    "\n",
    "plt.scatter(x=df_data.index, y=df_data['reward'], alpha=0.2, s=30, c=df_data['hist'], cmap=custom_cmap)\n",
    "color_bar = colorbar(label='Histogram of initial state [%]')\n",
    "color_bar.set_alpha(1)\n",
    "color_bar.draw_all()\n",
    "\n",
    "save_fig(f'{title_prefix}_reward', fig_extension='svg')\n"
   ]
  },
  {
   "cell_type": "code",
   "execution_count": null,
   "metadata": {
    "collapsed": false,
    "ExecuteTime": {
     "start_time": "2023-04-20T12:30:18.634450Z",
     "end_time": "2023-04-20T12:30:18.897889Z"
    }
   },
   "outputs": [],
   "source": [
    "plt.figure(figsize=(12, 4))\n",
    "plt.subplot(121)\n",
    "# plt.plot(df_data['max_q'].rolling(window=step).mean(), '-')\n",
    "plt.plot(df_data[df_data['random_action'] == False]['td_target'], '.', alpha=0.9)\n",
    "plt.plot(df_data[df_data['random_action'] == True]['td_target'], '.', alpha=0.4)\n",
    "plt.subplot(122)\n",
    "plt.plot(df_data['td_error'], 'r.', alpha=0.1)\n",
    "plt.axhline(y=0, color='grey')\n"
   ]
  },
  {
   "cell_type": "code",
   "execution_count": null,
   "metadata": {
    "ExecuteTime": {
     "start_time": "2023-04-20T12:30:18.900892Z",
     "end_time": "2023-04-20T12:30:19.020652Z"
    }
   },
   "outputs": [],
   "source": [
    "plt.plot(df_data['q'], '.')"
   ]
  },
  {
   "cell_type": "code",
   "execution_count": null,
   "metadata": {
    "collapsed": false,
    "ExecuteTime": {
     "start_time": "2023-04-20T12:30:19.022056Z",
     "end_time": "2023-04-20T12:30:19.144401Z"
    }
   },
   "outputs": [],
   "source": [
    "plt.plot(df_data['td_target'][::], '.')"
   ]
  },
  {
   "cell_type": "code",
   "execution_count": null,
   "metadata": {
    "collapsed": false,
    "ExecuteTime": {
     "start_time": "2023-04-20T12:30:19.146731Z",
     "end_time": "2023-04-20T12:30:19.282266Z"
    }
   },
   "outputs": [],
   "source": [
    "plt.plot(df_data['td_error'], 'o', alpha=0.1)\n",
    "plt.axhline(y=0, color='black')"
   ]
  },
  {
   "cell_type": "code",
   "execution_count": null,
   "metadata": {
    "collapsed": false,
    "ExecuteTime": {
     "start_time": "2023-04-20T12:30:19.283266Z",
     "end_time": "2023-04-20T12:30:19.683874Z"
    }
   },
   "outputs": [],
   "source": [
    "df_mean = df_data.groupby(['next_state']).mean()['reward'].rename('mean')\n",
    "df_count = df_data.groupby(['next_state']).count()['reward'].rename('count')\n",
    "df_min = df_data.groupby(['next_state']).min()['reward'].rename('min')\n",
    "df_max = df_data.groupby(['next_state']).max()['reward'].rename('max')\n",
    "df_std = df_data.groupby(['next_state']).std()['reward'].rename('std')\n",
    "df_state = pd.concat([df_count, df_mean, df_min, df_max, df_std], axis=1)\n",
    "df_state.sort_values(by='std', inplace=True)\n",
    "df_state.to_csv('./state_raport.csv')\n",
    "df_state.describe()"
   ]
  }
 ],
 "metadata": {
  "kernelspec": {
   "display_name": "Python 3 (ipykernel)",
   "language": "python",
   "name": "python3"
  },
  "language_info": {
   "codemirror_mode": {
    "name": "ipython",
    "version": 3
   },
   "file_extension": ".py",
   "mimetype": "text/x-python",
   "name": "python",
   "nbconvert_exporter": "python",
   "pygments_lexer": "ipython3",
   "version": "3.9.1"
  }
 },
 "nbformat": 4,
 "nbformat_minor": 1
}
