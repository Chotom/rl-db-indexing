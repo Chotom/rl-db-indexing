{
 "cells": [
  {
   "cell_type": "code",
   "execution_count": null,
   "metadata": {},
   "outputs": [],
   "source": [
    "import os\n",
    "import matplotlib.pyplot as plt\n",
    "import pandas as pd\n",
    "import numpy as np\n",
    "from matplotlib import colors"
   ]
  },
  {
   "cell_type": "code",
   "execution_count": null,
   "metadata": {
    "collapsed": false,
    "pycharm": {
     "name": "#%%\n"
    }
   },
   "outputs": [],
   "source": [
    "IMAGES_PATH = os.path.join('.', \"image_fix\")\n",
    "df_data = pd.read_csv('../data/agent_history_mock_variant2.csv')\n",
    "title_prefix = 'symulacji 2'\n",
    "step = 50\n",
    "\n",
    "\n",
    "def make_Ramp(ramp_colors):\n",
    "    from colour import Color\n",
    "    from matplotlib.colors import LinearSegmentedColormap\n",
    "\n",
    "    color_ramp = LinearSegmentedColormap.from_list('my_list', [Color(c1).rgb for c1 in ramp_colors])\n",
    "    plt.figure(figsize=(15, 3))\n",
    "    plt.imshow([list(np.arange(0, len(ramp_colors), 0.1))], interpolation='nearest', origin='lower', cmap=color_ramp)\n",
    "    plt.xticks([])\n",
    "    plt.yticks([])\n",
    "    return color_ramp\n",
    "\n",
    "\n",
    "def save_fig(fig_id, tight_layout=True, fig_extension=\"png\", resolution=300):\n",
    "    path = os.path.join(IMAGES_PATH, fig_id + \".\" + fig_extension)\n",
    "    print(\"Saving figure\", fig_id)\n",
    "    if tight_layout:\n",
    "        plt.tight_layout()\n",
    "    # plt.savefig(path, format=fig_extension, dpi=resolution)\n",
    "\n",
    "\n",
    "# custom_cmap = make_Ramp(['#005ce6', '#069AF3', '#66ccff', '#ffbf80', '#ffa64d', '#ff7f0e', '#ffbb33'])\n",
    "custom_cmap = make_Ramp(['#80b3ff', '#3385ff', '#0066ff', '#1a1aff', '#0000e6'])\n"
   ]
  },
  {
   "cell_type": "code",
   "execution_count": null,
   "metadata": {},
   "outputs": [],
   "source": [
    "hist, x, y, _ = plt.hist2d(df_data[::step].index, df_data[::step]['initial_state_reward'], bins=(1, 12),\n",
    "                           cmap=custom_cmap)\n",
    "hist = [0.0, *hist[0], 0.0]\n",
    "hist_intervals = pd.IntervalIndex.from_arrays(np.insert(y, 0, 0, axis=0),\n",
    "                                              np.insert(y, y.size, np.inf, axis=0),\n",
    "                                              closed='left')\n",
    "df_data['hist'] = df_data['reward'].apply(\n",
    "    lambda r: hist[hist_intervals.get_loc(r)] / (df_data.index.max() / step) * 100)"
   ]
  },
  {
   "cell_type": "code",
   "execution_count": null,
   "metadata": {},
   "outputs": [],
   "source": [
    "# exploration_probability\n",
    "plt.grid()\n",
    "plt.yticks(np.arange(min(df_data['exploration_probability']), max(df_data['exploration_probability']) + 1, 0.1))\n",
    "plt.ylabel('Prawdopodobieństwo eksploracji', fontsize=12)\n",
    "plt.xlabel('Liczba wykonanych kroków', fontsize=12)\n",
    "plt.title('Prawdopodobieństwo eksploracji w trakcie procesu uczenia')\n",
    "\n",
    "plt.plot(df_data['exploration_probability'], '.', markersize=1)\n",
    "save_fig(f'{title_prefix}exploration_probability')"
   ]
  },
  {
   "cell_type": "code",
   "execution_count": null,
   "metadata": {},
   "outputs": [],
   "source": [
    "# total_reward\n",
    "rolling_probe = step / 5\n",
    "\n",
    "plt.grid()\n",
    "plt.ylabel('Suma zgromadzonych nagród', fontsize=12)\n",
    "plt.xlabel('Liczba wykonanych kroków', fontsize=12)\n",
    "plt.title(f'Suma nagród na koniec poszczególnych epizodów\\n dla {title_prefix}')\n",
    "\n",
    "plt.plot(df_data['total_reward'][step - 1::step].rolling(window=int(rolling_probe)).mean(), '-',\n",
    "         label=f'Średnia krocząca dla {int(rolling_probe)} ostatnich epizodów')\n",
    "plt.plot(df_data['total_reward'][step - 1::step], '--', alpha=0.4,\n",
    "         label='Suma nagród na koniec epizodu')\n",
    "plt.legend(fontsize=12)\n",
    "save_fig(f'{title_prefix}total_reward')"
   ]
  },
  {
   "cell_type": "code",
   "execution_count": null,
   "metadata": {
    "collapsed": false,
    "pycharm": {
     "name": "#%%\n"
    }
   },
   "outputs": [],
   "source": [
    "# aprox q\n",
    "plt.grid()\n",
    "plt.ylabel('Aproksymowana Q-wartość', fontsize=12)\n",
    "plt.xlabel('Liczba wykonanych kroków', fontsize=12)\n",
    "plt.title(f'Aproksymowane Q-wartości po przejściu do stanu\\n dla {title_prefix}')\n",
    "\n",
    "plt.plot(df_data[df_data['random_action'] == False]['q'], '.', alpha=0.5,\n",
    "         label='Akcja wybrana po najlepszej Q-wartości')\n",
    "plt.plot(df_data[df_data['random_action'] == True]['q'], '.', alpha=0.4,\n",
    "         label='Losowa akcja')\n",
    "plt.legend(loc='lower right', fontsize=12)\n",
    "save_fig(f'{title_prefix}qvalue')"
   ]
  },
  {
   "cell_type": "code",
   "execution_count": null,
   "metadata": {
    "collapsed": false,
    "pycharm": {
     "name": "#%%\n"
    }
   },
   "outputs": [],
   "source": [
    "# td error\n",
    "plt.grid()\n",
    "plt.ylabel('Błąd TD', fontsize=12)\n",
    "plt.xlabel('Liczba wykonanych kroków', fontsize=12)\n",
    "plt.title(f'Różnica pomiędzy aproksymowanymi Q-wartościami\\n a wartością docelową w wybranym stanie dla {title_prefix}')\n",
    "\n",
    "plt.plot(df_data['td_error'], 'r.', alpha=0.15)\n",
    "plt.axhline(y=0, color='grey')\n",
    "save_fig(f'{title_prefix}td_error')"
   ]
  },
  {
   "cell_type": "code",
   "execution_count": null,
   "metadata": {
    "collapsed": false,
    "pycharm": {
     "name": "#%%\n"
    }
   },
   "outputs": [],
   "source": [
    "from matplotlib.pyplot import colorbar\n",
    "\n",
    "# rewards\n",
    "\n",
    "plt.figure(figsize=(8, 6))\n",
    "plt.grid(axis='x')\n",
    "for yc in y[:-2]:\n",
    "    plt.axhline(y=yc, color='grey', alpha=0.3)\n",
    "plt.ylabel('Nagroda w wybranym stanie', fontsize=12)\n",
    "plt.xlabel('Liczba wykonanych kroków', fontsize=12)\n",
    "plt.title(f'Wartość nagród otrzymanych w trakcie procesu uczenia\\n dla {title_prefix}')\n",
    "\n",
    "plt.scatter(x=df_data.index, y=df_data['reward'], alpha=0.2, s=30, c=df_data['hist'], cmap=custom_cmap)\n",
    "color_bar = colorbar(label='rozkład normalny pomiarów stanu początkowego (w %)')\n",
    "color_bar.set_alpha(1)\n",
    "color_bar.draw_all()\n",
    "\n",
    "save_fig(f'{title_prefix}reward')\n"
   ]
  },
  {
   "cell_type": "code",
   "execution_count": null,
   "metadata": {
    "collapsed": false,
    "pycharm": {
     "name": "#%%\n"
    }
   },
   "outputs": [],
   "source": [
    "plt.figure(figsize=(12, 4))\n",
    "plt.subplot(121)\n",
    "# plt.plot(df_data['max_q'].rolling(window=step).mean(), '-')\n",
    "plt.plot(df_data[df_data['random_action'] == False]['td_target'], '.', alpha=0.9)\n",
    "plt.plot(df_data[df_data['random_action'] == True]['td_target'], '.', alpha=0.4)\n",
    "plt.subplot(122)\n",
    "plt.plot(df_data['td_error'], 'r.', alpha=0.1)\n",
    "plt.axhline(y=0, color='grey')\n"
   ]
  },
  {
   "cell_type": "code",
   "execution_count": null,
   "metadata": {},
   "outputs": [],
   "source": [
    "plt.plot(df_data['q'], '.')"
   ]
  },
  {
   "cell_type": "code",
   "execution_count": null,
   "metadata": {
    "collapsed": false,
    "pycharm": {
     "name": "#%%\n"
    }
   },
   "outputs": [],
   "source": [
    "plt.plot(df_data['td_target'][::], '.')"
   ]
  },
  {
   "cell_type": "code",
   "execution_count": null,
   "metadata": {
    "collapsed": false,
    "pycharm": {
     "name": "#%%\n"
    }
   },
   "outputs": [],
   "source": [
    "plt.plot(df_data['td_error'], 'o', alpha=0.1)\n",
    "plt.axhline(y=0, color='black')"
   ]
  },
  {
   "cell_type": "code",
   "execution_count": null,
   "metadata": {
    "collapsed": false,
    "pycharm": {
     "name": "#%%\n"
    }
   },
   "outputs": [],
   "source": [
    "df_mean = df_data.groupby(['next_state']).mean()['reward'].rename('mean')\n",
    "df_count = df_data.groupby(['next_state']).count()['reward'].rename('count')\n",
    "df_min = df_data.groupby(['next_state']).min()['reward'].rename('min')\n",
    "df_max = df_data.groupby(['next_state']).max()['reward'].rename('max')\n",
    "df_std = df_data.groupby(['next_state']).std()['reward'].rename('std')\n",
    "df_state = pd.concat([df_count, df_mean, df_min, df_max, df_std], axis=1)\n",
    "df_state.sort_values(by='std', inplace=True)\n",
    "df_state.to_csv('./state_raport.csv')\n",
    "df_state.describe()"
   ]
  }
 ],
 "metadata": {
  "kernelspec": {
   "display_name": "Python 3 (ipykernel)",
   "language": "python",
   "name": "python3"
  },
  "language_info": {
   "codemirror_mode": {
    "name": "ipython",
    "version": 3
   },
   "file_extension": ".py",
   "mimetype": "text/x-python",
   "name": "python",
   "nbconvert_exporter": "python",
   "pygments_lexer": "ipython3",
   "version": "3.9.1"
  }
 },
 "nbformat": 4,
 "nbformat_minor": 1
}
